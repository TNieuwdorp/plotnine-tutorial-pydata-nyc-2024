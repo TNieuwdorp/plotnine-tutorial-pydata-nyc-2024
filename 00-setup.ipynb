{
 "cells": [
  {
   "cell_type": "code",
   "execution_count": null,
   "id": "5158178c-8ca1-4831-832e-09782f3e0162",
   "metadata": {},
   "outputs": [],
   "source": [
    "! git pull origin main --force"
   ]
  },
  {
   "cell_type": "code",
   "execution_count": null,
   "id": "184db776-a4d8-4641-8678-d57a384ec749",
   "metadata": {},
   "outputs": [],
   "source": [
    "%pip install -r requirements.txt"
   ]
  }
 ],
 "metadata": {
  "kernelspec": {
   "display_name": "Python 3 (ipykernel)",
   "language": "python",
   "name": "python3"
  },
  "language_info": {
   "codemirror_mode": {
    "name": "ipython",
    "version": 3
   },
   "file_extension": ".py",
   "mimetype": "text/x-python",
   "name": "python",
   "nbconvert_exporter": "python",
   "pygments_lexer": "ipython3",
   "version": "3.12.6"
  }
 },
 "nbformat": 4,
 "nbformat_minor": 5
}
